{
  "nbformat": 4,
  "nbformat_minor": 0,
  "metadata": {
    "colab": {
      "name": "Hindi_Songs_Search_Engine_Rev.00",
      "provenance": [],
      "collapsed_sections": [],
      "mount_file_id": "1nZ5F0IT06NoI4B9EN8xy6lPWcycqSTjA",
      "authorship_tag": "ABX9TyOrYBED/4d9V3sgk+OQ7aSI",
      "include_colab_link": true
    },
    "kernelspec": {
      "name": "python3",
      "display_name": "Python 3"
    }
  },
  "cells": [
    {
      "cell_type": "markdown",
      "metadata": {
        "id": "view-in-github",
        "colab_type": "text"
      },
      "source": [
        "<a href=\"https://colab.research.google.com/github/Bhairavsingh/ASL_Alphabets_Detection/blob/master/Hindi_Songs_Search_Engine_Rev_00.ipynb\" target=\"_parent\"><img src=\"https://colab.research.google.com/assets/colab-badge.svg\" alt=\"Open In Colab\"/></a>"
      ]
    },
    {
      "cell_type": "code",
      "metadata": {
        "id": "NnnqLST8pJL9",
        "colab_type": "code",
        "colab": {}
      },
      "source": [
        ""
      ],
      "execution_count": null,
      "outputs": []
    },
    {
      "cell_type": "code",
      "metadata": {
        "id": "tDa8j1ZlsR7P",
        "colab_type": "code",
        "colab": {
          "base_uri": "https://localhost:8080/",
          "height": 502
        },
        "outputId": "fcdbe173-c432-4ee4-ca9d-803d40b6ab80"
      },
      "source": [
        "\n",
        "!pip install anvil-uplink\n",
        "\n",
        "import anvil.server\n",
        "anvil.server.connect(\"UODXQBDC4FYP6FI3UHFVTDNP-WAMCSGMJP7IS7E6W\")\n",
        "\n"
      ],
      "execution_count": 40,
      "outputs": [
        {
          "output_type": "stream",
          "text": [
            "Collecting anvil-uplink\n",
            "\u001b[?25l  Downloading https://files.pythonhosted.org/packages/17/d8/87b63bbe42f4d33f8a391f794f44c33b2c8d718e5780d00e2d5898aa216b/anvil_uplink-0.3.33-py2.py3-none-any.whl (57kB)\n",
            "\r\u001b[K     |█████▊                          | 10kB 15.4MB/s eta 0:00:01\r\u001b[K     |███████████▍                    | 20kB 1.8MB/s eta 0:00:01\r\u001b[K     |█████████████████               | 30kB 2.4MB/s eta 0:00:01\r\u001b[K     |██████████████████████▊         | 40kB 2.6MB/s eta 0:00:01\r\u001b[K     |████████████████████████████▍   | 51kB 2.1MB/s eta 0:00:01\r\u001b[K     |████████████████████████████████| 61kB 1.9MB/s \n",
            "\u001b[?25hRequirement already satisfied: future in /usr/local/lib/python3.6/dist-packages (from anvil-uplink) (0.16.0)\n",
            "Collecting ws4py\n",
            "\u001b[?25l  Downloading https://files.pythonhosted.org/packages/53/20/4019a739b2eefe9282d3822ef6a225250af964b117356971bd55e274193c/ws4py-0.5.1.tar.gz (51kB)\n",
            "\u001b[K     |████████████████████████████████| 61kB 5.1MB/s \n",
            "\u001b[?25hCollecting argparse\n",
            "  Downloading https://files.pythonhosted.org/packages/f2/94/3af39d34be01a24a6e65433d19e107099374224905f1e0cc6bbe1fd22a2f/argparse-1.4.0-py2.py3-none-any.whl\n",
            "Requirement already satisfied: six in /usr/local/lib/python3.6/dist-packages (from anvil-uplink) (1.15.0)\n",
            "Building wheels for collected packages: ws4py\n",
            "  Building wheel for ws4py (setup.py) ... \u001b[?25l\u001b[?25hdone\n",
            "  Created wheel for ws4py: filename=ws4py-0.5.1-cp36-none-any.whl size=45216 sha256=5362da327c154f3fc6d32d5b7201261840463d18fe9ca677f3aaca92763a8554\n",
            "  Stored in directory: /root/.cache/pip/wheels/a2/6e/4e/8b0ae12fb9b8a05715256952cf7609a8ab86285fab99b88c68\n",
            "Successfully built ws4py\n",
            "Installing collected packages: ws4py, argparse, anvil-uplink\n",
            "Successfully installed anvil-uplink-0.3.33 argparse-1.4.0 ws4py-0.5.1\n"
          ],
          "name": "stdout"
        },
        {
          "output_type": "display_data",
          "data": {
            "application/vnd.colab-display-data+json": {
              "pip_warning": {
                "packages": [
                  "argparse",
                  "google"
                ]
              }
            }
          },
          "metadata": {
            "tags": []
          }
        },
        {
          "output_type": "stream",
          "text": [
            "Connecting to wss://anvil.works/uplink\n",
            "Anvil websocket open\n",
            "Connected to \"Default environment (dev)\" as SERVER\n"
          ],
          "name": "stdout"
        }
      ]
    },
    {
      "cell_type": "code",
      "metadata": {
        "id": "CeLMDMrNpPwk",
        "colab_type": "code",
        "colab": {}
      },
      "source": [
        "\n",
        "#Loading required libraries.\n",
        "import pandas as pd\n",
        "import numpy as np\n",
        "import re\n",
        "import string\n",
        "from pprint import pprint\n",
        "from collections import Counter\n",
        "import keras\n",
        "import os\n",
        "import json\n",
        "import sklearn\n",
        "import matplotlib.pyplot as plt\n",
        "\n",
        "from sklearn.feature_extraction.text import TfidfVectorizer\n",
        "from sklearn.metrics.pairwise import cosine_similarity\n",
        "from sklearn.feature_extraction.text import CountVectorizer\n",
        "from sklearn.feature_extraction.text import TfidfTransformer\n",
        "\n",
        "from keras.layers import Embedding\n",
        "import tensorflow as tf\n",
        "\n",
        "from keras.datasets import imdb\n",
        "from keras import preprocessing\n",
        "from keras.preprocessing.text import Tokenizer\n",
        "from keras.preprocessing.sequence import pad_sequences\n",
        "from keras.models import Sequential\n",
        "from keras import regularizers\n",
        "from keras.layers import Embedding, Flatten, Dense, Dropout, Activation, RepeatVector\n",
        "from keras.optimizers import RMSprop\n",
        "from keras.layers import LSTM\n",
        "\n"
      ],
      "execution_count": 1,
      "outputs": []
    },
    {
      "cell_type": "code",
      "metadata": {
        "id": "OePsutidpQFd",
        "colab_type": "code",
        "colab": {
          "base_uri": "https://localhost:8080/",
          "height": 54
        },
        "outputId": "8ab795ba-8561-4ddd-b8d7-94a2cc113076"
      },
      "source": [
        "\n",
        "'''\n",
        "#Path for the directory.\n",
        "glove_dir = '/content/drive/My Drive/Colab_Datasets/Hindi_Songs_Lyrics'\n",
        "embeddings_index = {}\n",
        "\n",
        "#opening the file with pretrained words.\n",
        "f = open(os.path.join(glove_dir, 'lyrics.json'))\n",
        "lyrics_data_dict = json.load(f)\n",
        "meta_data = pd.read_csv('/content/drive/My Drive/Colab_Datasets/Hindi_Songs_Lyrics/combined.csv')\n",
        "lyrics_data_pddf = pd.read_csv('/content/drive/My Drive/Colab_Datasets/Hindi_Songs_Lyrics/lyrics.csv')\n",
        "'''\n",
        "'''\n",
        "#Writing a text file for song vocab.\n",
        "keys = list(lyrics_data_dict.keys())\n",
        "\n",
        "temp = ''\n",
        "for i in keys:\n",
        "  temp = temp + ' ' + lyrics_data_dict[i]\n",
        "\n",
        "text_file = open(r\"/content/drive/My Drive/Colab_Datasets/Hindi_Songs_Lyrics/hindi_song_vocab.txt\", \"w+\")\n",
        "text_file.write(temp)\n",
        "text_file.close()\n",
        "'''\n",
        "\n"
      ],
      "execution_count": null,
      "outputs": [
        {
          "output_type": "execute_result",
          "data": {
            "application/vnd.google.colaboratory.intrinsic+json": {
              "type": "string"
            },
            "text/plain": [
              "'\\n#Writing a text file for song vocab.\\nkeys = list(lyrics_data_dict.keys())\\n\\ntemp = \\'\\'\\nfor i in keys:\\n  temp = temp + \\' \\' + lyrics_data_dict[i]\\n\\ntext_file = open(r\"/content/drive/My Drive/Colab_Datasets/Hindi_Songs_Lyrics/hindi_song_vocab.txt\", \"w+\")\\ntext_file.write(temp)\\ntext_file.close()\\n'"
            ]
          },
          "metadata": {
            "tags": []
          },
          "execution_count": 3
        }
      ]
    },
    {
      "cell_type": "code",
      "metadata": {
        "id": "c6VCdZKWPfrE",
        "colab_type": "code",
        "colab": {
          "base_uri": "https://localhost:8080/",
          "height": 167
        },
        "outputId": "1e18f1bc-3fb3-4db7-ab4d-1cf621daec18"
      },
      "source": [
        "\n",
        "lyrics_data = pd.read_csv('/content/drive/My Drive/Colab_Datasets/Hindi_Songs_Lyrics/Scrapped_Hindi_Songs.csv')\n",
        "\n",
        "\n",
        "newdata = lyrics_data\n",
        "for i in range (len(lyrics_data['Lyrics'])):\n",
        "  lyrics_data['Lyrics'][i] = newdata['Lyrics'][i][22:]\n"
      ],
      "execution_count": 20,
      "outputs": [
        {
          "output_type": "execute_result",
          "data": {
            "application/vnd.google.colaboratory.intrinsic+json": {
              "type": "string"
            },
            "text/plain": [
              "'\\n (Tana dere na tana na de sundari\\n Tana dere na tana na de) - 2\\n Tere liye o deewani gali gali khak chani\\n Ab yu sata na mujhe\\n (Jhasa de re na jhasa na de mujhe manchale\\n Jhasa de re na jhasa na de) - 2\\n Janu tujhe mai janu bat mai teri na manu\\n Chod de banana mujhe\\n Tana dere na tana na de sundari\\n Jhasa de re na jhasa na de\\n \\n Lakho me karodo me koi na tujhsi hasina milegi - 2\\n Rup ke chaman me na aisi kali so baras me khilegi\\n Chal jhuthe bato me na aau teri\\n Chodungi na jid meri tune nahi jana mujhe\\n Jhasa de re na jhasa na de manchale\\n Tana dere na tana na de\\n \\n Teri ho gayi hu magar ye samjh na gulami karungi - 2\\n Ankhe na dikha re deewane na aisi ada se darungi\\n Tu hai mere dil ki rani mai tera gulam jani\\n Dekh yu jala na mujhe\\n (Tana dere na tana na de sundari\\n Tana dere na tana na de) - 2\\n Tere liye o deewani gali gali khak chani\\n Ab yu sata na mujhe\\n (Jhasa de re na jhasa na de manchale\\n Jhasa de re na jhasa na de) - 2\\n Janu tujhe mai janu bat mai teri na manu\\n Chod de banana mujhe\\n Jhasa de re na jhasa na de manchale\\n Tana dere na tana na de\\n</font>'"
            ]
          },
          "metadata": {
            "tags": []
          },
          "execution_count": 20
        }
      ]
    },
    {
      "cell_type": "code",
      "metadata": {
        "id": "2CUDGLTq3q6L",
        "colab_type": "code",
        "colab": {}
      },
      "source": [
        "\n",
        "#Function for creating a list ofstrings from the input. It creates different elements in the list if there is a space.\n",
        "#Basically, a sentence will be converted into a list of words.\n",
        "def words(text): return re.findall(r'\\w+', text.lower())\n",
        "\n",
        "#Reading the file with vocabulary.\n",
        "WORDS = Counter(words(open('/content/drive/My Drive/Colab_Datasets/Hindi_Songs_Lyrics/hindi_song_vocab.txt').read()))\n",
        "\n",
        "#Function for calculating probability of the given word to find in the vocabulary.\n",
        "def P(word, N = sum(WORDS.values())): \n",
        "    \"Probability of `word`.\"\n",
        "    #WORDS[word] gives the count of word\n",
        "    #N is total number of words in the vocabulary.\n",
        "    return WORDS[word] / N\n",
        "\n",
        "#Main function which should be called for word correction.\n",
        "def correction(word): \n",
        "    \"Most probable spelling correction for word.\"\n",
        "    return max(candidates(word), key = P)\n",
        "\n",
        "#Function for genetraing all possible real words from given string.\n",
        "def candidates(word): \n",
        "    \"Generate possible spelling corrections for word.\"\n",
        "    return (known([word]) or known(edits1(word)) or known(edits2(word)) or [word])\n",
        "\n",
        "def known(words): \n",
        "    \"The subset of `words` that appear in the dictionary of WORDS.\"\n",
        "    return set(w for w in words if w in WORDS)\n",
        "\n",
        "#Function for editing given string. This returns words which are one edit away from input string.\n",
        "#The function edits1 returns a set of all the edited strings (whether words or not) that can be made with one simple edit: \n",
        "#a simple edit to a word is a deletion (remove one letter), a transposition (swap two adjacent letters), a replacement (change one letter to another) or an insertion (add a letter).\n",
        "#The output of this function can be a big set. For a word of length n, there will be n deletions, n-1 transpositions, \n",
        "#26n alterations, and 26(n+1) insertions, for a total of 54n+25 (of which a few are typically duplicates)\n",
        "def edits1(word):\n",
        "    \"All edits that are one edit away from `word`.\"\n",
        "    letters    = 'abcdefghijklmnopqrstuvwxyz'\n",
        "    #Splitting the letters of a word to form a combination.\n",
        "    splits     = [(word[:i], word[i:])    for i in range(len(word) + 1)]\n",
        "    deletes    = [L + R[1:]               for L, R in splits if R]\n",
        "    transposes = [L + R[1] + R[0] + R[2:] for L, R in splits if len(R)>1]\n",
        "    replaces   = [L + c + R[1:]           for L, R in splits if R for c in letters]\n",
        "    inserts    = [L + c + R               for L, R in splits for c in letters]\n",
        "    return set(deletes + transposes + replaces + inserts)\n",
        "\n",
        "#Function for generating set of words which are two edits away from input string.\n",
        "def edits2(word): \n",
        "    \"All edits that are two edits away from `word`.\"\n",
        "    return (e2 for e1 in edits1(word) for e2 in edits1(e1))\n"
      ],
      "execution_count": 21,
      "outputs": []
    },
    {
      "cell_type": "code",
      "metadata": {
        "id": "Q_fsTBhhpQIg",
        "colab_type": "code",
        "colab": {}
      },
      "source": [
        "\n",
        "#Function for vectorization of words using bag of words.\n",
        "def bow_extractor(dataframe, variable_name, ngram_range = (1,5)):\n",
        "  data = []\n",
        "  data_raw = list(dataframe.loc[:, variable_name])\n",
        "  for i in data_raw:\n",
        "    song_data = i.lower()\n",
        "    data.append(song_data)\n",
        "  vectorizer = CountVectorizer(min_df = 1, ngram_range = ngram_range)\n",
        "  features = vectorizer.fit_transform(data)\n",
        "  return vectorizer, features\n",
        "\n",
        "\n",
        "#Function for creating TFIDF matrix.\n",
        "def tfidf_transformer(bow_matrix):\n",
        "  transformer = TfidfTransformer(norm = 'l2', smooth_idf = True, use_idf = True)\n",
        "  tfidf_matrix = transformer.fit_transform(bow_matrix)\n",
        "  return transformer, tfidf_matrix\n",
        "\n",
        "\n",
        "#Function for vectorizing and transforming query into TFIDF smatrix.\n",
        "def query_vectorization(query, vectorizer, transformer):\n",
        "  query_features = vectorizer.transform([query])\n",
        "  query_tfidf = transformer.transform(query_features)\n",
        "  return query_tfidf, query_features\n",
        "\n",
        "\n",
        "#Function for creating similarity matrix.\n",
        "def cos_similarity(search_query_weights, tfidf_weights_matrix):\t\n",
        "  #Calculating cosine distance between documents and query.\n",
        "\tcosine_distance = cosine_similarity(search_query_weights, tfidf_weights_matrix)\n",
        "\tsimilarity_list = cosine_distance[0]  \n",
        "\treturn similarity_list\n",
        "\n",
        "\n",
        "#Function for suggesting most similar documents.\n",
        "def most_similar(similarity_list, min_talks):\n",
        "\tmost_similar= []\n",
        "\twhile min_talks > 0:\n",
        "\t\ttmp_index = np.argmax(similarity_list)\n",
        "\t\tmost_similar.append(tmp_index)\n",
        "\t\tsimilarity_list[tmp_index] = 0\n",
        "\t\tmin_talks -= 1\n",
        "\treturn most_similar\n",
        "\n",
        "\n",
        "#Vectorizing all songs from dataset.\n",
        "bow_vectorizer, bow_features = bow_extractor(lyrics_data, 'Lyrics')\n",
        "transformer, tfidf_matrix = tfidf_transformer(bow_features)\n",
        "\n",
        "\n",
        "#Function for searching.\n",
        "def search_song(query, number_of_results):\n",
        "  #Correcting the query words to nearest correct word from local vocab.\n",
        "  query = correction(query)\n",
        "  #Vectorizing the query.\n",
        "  query_tfidf, query_features = query_vectorization(query, bow_vectorizer, transformer)\n",
        "  #List of similarity with all songs.\n",
        "  similarity_list = cos_similarity(query_tfidf, tfidf_matrix)\n",
        "  #Result of top matching songs.\n",
        "  sim_songs = most_similar(similarity_list, min_talks = number_of_results)\n",
        "  #Printing all the results.\n",
        "  for i in sim_songs:\n",
        "    #print('\\n', \"Song: \", meta_data['Song Name'][i])\n",
        "    #print(\"Lyricist: \", meta_data['Lyricists_1'][i])\n",
        "    #print(\"Music Director: \", meta_data['Music_Director_1'])[i]\n",
        "    #print(\"Singer: \", meta_data['Singer_1'][i])\n",
        "    print('\\n', \"Lyrics: \", lyrics_data['Lyrics'][i])\n",
        "    print(\"-----------------------------------------------------------------------------------------\", '\\n')\n",
        "\n",
        "\n",
        "\n"
      ],
      "execution_count": 27,
      "outputs": []
    },
    {
      "cell_type": "code",
      "metadata": {
        "id": "BJdLe2w2uX-K",
        "colab_type": "code",
        "colab": {}
      },
      "source": [
        "\n",
        "@anvil.server.callable\n",
        "#Function for searching.\n",
        "def search_song(query, number_of_results = 5):\n",
        "  print(query)\n",
        "  #Correcting the query words to nearest correct word from local vocab.\n",
        "  query = correction(query)\n",
        "  #Vectorizing the query.\n",
        "  query_tfidf, query_features = query_vectorization(query, bow_vectorizer, transformer)\n",
        "  #List of similarity with all songs.\n",
        "  similarity_list = cos_similarity(query_tfidf, tfidf_matrix)\n",
        "  #Result of top matching songs.\n",
        "  sim_songs = most_similar(similarity_list, min_talks = number_of_results)\n",
        "  #Printing all the results.\n",
        "  for i in sim_songs:\n",
        "    #print('\\n', \"Song: \", meta_data['Song Name'][i])\n",
        "    #print(\"Lyricist: \", meta_data['Lyricists_1'][i])\n",
        "    #print(\"Music Director: \", meta_data['Music_Director_1'])[i]\n",
        "    #print(\"Singer: \", meta_data['Singer_1'][i])\n",
        "    print('\\n', \"Lyrics: \", lyrics_data['Lyrics'][i])\n",
        "    print(\"-----------------------------------------------------------------------------------------\", '\\n')\n",
        "    return lyrics_data['Lyrics'][i]\n"
      ],
      "execution_count": 41,
      "outputs": []
    },
    {
      "cell_type": "code",
      "metadata": {
        "id": "MFwe3vA_pQui",
        "colab_type": "code",
        "colab": {
          "base_uri": "https://localhost:8080/",
          "height": 1000
        },
        "outputId": "9ccdcd31-7f79-4855-bb12-ba875b0c2b1b"
      },
      "source": [
        "\n",
        "#query = 'Dil ki diwali hai ishq'\n",
        "#query = 'mujhe chod do mere haal pe'\n",
        "#query = 'aane wala waqt dega panahe'\n",
        "#query = 'koi aage na piche'\n",
        "query = 'kahin door jab din dhal jaye'\n",
        "query = 'Kandhon ko kitaabon ke bojh ne jhukaaya'\n",
        "\n",
        "num = 5\n",
        "#search_song(query, number_of_results = 5)\n",
        "\n",
        "search_song(query, num)\n",
        "\n"
      ],
      "execution_count": 39,
      "outputs": [
        {
          "output_type": "stream",
          "text": [
            "\n",
            " Lyrics:  \n",
            " Kahin door jab din dhal jaye \n",
            " Saanjh ki dulhan badan churaaye chupake se aaye\n",
            " Mere kayaalon ke aangan mein \n",
            " Koi sapanon ke deep jalaaye deep jalaaye\n",
            " Kahin door jab din dhal jaye \n",
            " Saanjh ki dulhan badan churaaye chupake se aaye\n",
            " \n",
            " Kabhi yunhin jab huyi bojhal saansen \n",
            " Bhar aayi baithe baithe jab yuhin aankhen \n",
            " Tabhi machala ke pyaar se chal ke\n",
            " Chhuye koyi mujhe par nazar na aaye nazar na aaye\n",
            " Kahin door jab din dhal jaye \n",
            " Saanjh ki dulhan badan churaaye chupake se aaye\n",
            " \n",
            " Kahin to ye dil kabhi mil nahin paate\n",
            " Kahin se nikal aaye janmon ke naate\n",
            " Ghani thi ulajhan bairi apanaa man\n",
            " Apanaa hi hoke sahe dard paraaye dard paraaye\n",
            " Kahin door jab din dhal jaye \n",
            " Saanjh ki dulhan badan churaaye chupake se aaye\n",
            " Mere kayaalon ke aangan mein \n",
            " Koi sapanon ke deep jalaaye deep jalaaye\n",
            " \n",
            " Dil jaane mere saare bhed ye gahare\n",
            " Ho gaye kaise mere sapane sunahare\n",
            " Ye mere sapane yahi to hain apane\n",
            " Mujhase juda na honge inake ye saaye inake ye saaye\n",
            " Kahin door jab din dhal jaye \n",
            " Saanjh ki dulhan badan churaaye chupake se aaye\n",
            "</font>\n",
            "----------------------------------------------------------------------------------------- \n",
            "\n",
            "\n",
            " Lyrics:  \n",
            " Kahin door jab din dhal jaye\n",
            " Sanjh ki dulhan badan churaye\n",
            " Chupke se aaye\n",
            " Mere khayaalon ke aangan mein\n",
            " Koi sapnon ke deep jalaaye\n",
            " \n",
            " Kabhi yun hi jab hui bojhal saansen\n",
            " Bhar aai baithe baithe jab yun hi aankhen\n",
            " Kabhi machal ke pyar se chal ke\n",
            " Chhuye koi mujhe par nazar na aaye\n",
            " Kahin door...\n",
            " \n",
            " Kahin to yeh dil kabhi mil nahin paate\n",
            " Kahin pe nikal aaye janmon ke naate\n",
            " Thami thi uljhan bairi apna man\n",
            " Apna hi hoke sahe dard paraaye\n",
            " Kahin door...\n",
            "</font>\n",
            "----------------------------------------------------------------------------------------- \n",
            "\n",
            "\n",
            " Lyrics:  \n",
            " Rat na jaye, teree yad sataye\n",
            " Din dhal jaye hay rat na jaye\n",
            " Too toh na aaye teree yad sataye\n",
            " Din dhal jaye.......\n",
            " \n",
            " Pyar me jinake sab jag chhoda aur huye badnam\n",
            " Unake hee haatho hal huwa yeh, baithe hai dil ko tham\n",
            " Apne kadhee the abb hai paraye\n",
            " Din dhal jaye hay rat na jaye\n",
            " Too toh na aaye teree yad sataye\n",
            " Din dhal jaye.......\n",
            " \n",
            " Aisee hee rim jhim aisee khumare aisee hee thee barasat\n",
            " Khud se juda aur jag se pareshan ham dono the sath\n",
            " Phir se woh sawaan abb kyun na aaye\n",
            " Din dhal jaye, hay rat na jaye\n",
            " Too toh na aaye teree yad sataaye\n",
            " Din dhal jaye........\n",
            "</font>\n",
            "----------------------------------------------------------------------------------------- \n",
            "\n",
            "\n",
            " Lyrics:  \n",
            " Tum jab se jivan me kushabu kee tarah chhaye\n",
            " Kab jane rain gayee, kab din dhal jaye\n",
            " \n",
            " Mai hu vahee tum ho vahee, mausam hai vahee\n",
            " Bikharee huyee phulo par shabanam hai vahee\n",
            " Phir kyon puranee aaj kahanee lagatee hai nayee\n",
            " Jab se naye matalab yeh jine ke samajh paye\n",
            " Kab jane rain gayee kab din dhal jaye\n",
            " \n",
            " Kaun see yeh manjil hai kaisa hai safar\n",
            " Itanee hasin pehale nahee lagatee thee dagar\n",
            " Inn raaho pe aao basa le sapano ka nagar\n",
            " Jab se mujhe pyar bhare iss mod pe tum laye\n",
            " Kab jane rain gayee kab din dhal jaye\n",
            " \n",
            " Tumne chhuwa mujhape huwa jane kya asar\n",
            " Anadekhee uthane lagee man me ik lehar\n",
            " Kyon na yeh lamhe milake chun le ham tum jhumkar\n",
            " Jab se tere git mere inn honthon par aaye\n",
            " Kab jane rain gayee kab din dhal jaye\n",
            "</font>\n",
            "----------------------------------------------------------------------------------------- \n",
            "\n",
            "\n",
            " Lyrics:  \n",
            " Din dhal jaye haye rat naa jaye\n",
            " Tu toh naa aaye teree yad sataye\n",
            " \n",
            " Pyar me jinke sab jag chhodha, aur huye badnam\n",
            " Unake hee hatho hal huwa yeh, baithe hai dil ko tham\n",
            " Apne kabhee the abb hain paraye, din dhal......\n",
            " \n",
            " Aisee rim-jhim aisee puhare, aisee hee thee barsat\n",
            " Khud se juda aur jug se paraye, ham dono the sath\n",
            " Phir se woh sawan abb kyon naa aaye, din dhal.......\n",
            "</font>\n",
            "----------------------------------------------------------------------------------------- \n",
            "\n"
          ],
          "name": "stdout"
        }
      ]
    },
    {
      "cell_type": "code",
      "metadata": {
        "id": "iOEtjCowtP4E",
        "colab_type": "code",
        "colab": {}
      },
      "source": [
        "\n",
        "anvil.server.wait_forever()\n",
        "\n"
      ],
      "execution_count": null,
      "outputs": []
    },
    {
      "cell_type": "code",
      "metadata": {
        "id": "iVjg0M74tSX_",
        "colab_type": "code",
        "colab": {}
      },
      "source": [
        "\n",
        "Connecting to wss://anvil.works/uplink\n",
        "Anvil websocket open\n",
        "Authenticated OK\n"
      ],
      "execution_count": null,
      "outputs": []
    },
    {
      "cell_type": "code",
      "metadata": {
        "id": "qoFOmRnllHSD",
        "colab_type": "code",
        "colab": {
          "base_uri": "https://localhost:8080/",
          "height": 35
        },
        "outputId": "52bcb591-ba1b-497f-cbf5-00d5f26d55b2"
      },
      "source": [
        "\n",
        "\"\"\"\n",
        "#Combining all songs in one string.\n",
        "combined_text = ''\n",
        "for song in lyrics_data_pddf['Lyrics']:\n",
        "  combined_text = combined_text + song\n",
        "\n",
        "combined_text = combined_text.lower()\n",
        "combined_text = combined_text.replace('\\n', ' ')\n",
        "combined_text = combined_text.replace('--', '')\n",
        "combined_text = combined_text.replace('....', '')\n",
        "combined_text = combined_text.replace('-', '')\n",
        "combined_text = combined_text.replace(',', '')\n",
        "combined_text = combined_text.replace('.', '')\n",
        "combined_text = combined_text.replace('?', '')\n",
        "combined_text = combined_text.replace('(', '')\n",
        "combined_text = combined_text.replace(')', '')\n",
        "\n",
        "len(combined_text)\n",
        "\"\"\"\n"
      ],
      "execution_count": null,
      "outputs": [
        {
          "output_type": "execute_result",
          "data": {
            "text/plain": [
              "1655089"
            ]
          },
          "metadata": {
            "tags": []
          },
          "execution_count": 26
        }
      ]
    },
    {
      "cell_type": "code",
      "metadata": {
        "id": "82Jjuq7qpQLn",
        "colab_type": "code",
        "colab": {}
      },
      "source": [
        "\n",
        "\"\"\"\n",
        "#Unique words from the dataset.\n",
        "unique_alpha = sorted(list(set(combined_text)))\n",
        "uchar_index = dict((c, i) for i, c in enumerate(unique_alpha))\n",
        "index_uchar = dict((i, c) for i, c in enumerate(unique_alpha))\n",
        "\"\"\"\n"
      ],
      "execution_count": null,
      "outputs": []
    },
    {
      "cell_type": "code",
      "metadata": {
        "id": "c-oprnTfpQOM",
        "colab_type": "code",
        "colab": {
          "base_uri": "https://localhost:8080/",
          "height": 35
        },
        "outputId": "5f6de43b-a200-49df-d6bb-b7c7afe9f9a0"
      },
      "source": [
        "\n",
        "\"\"\"\n",
        "SEQUENCE_LENGTH = 40\n",
        "step = 3\n",
        "sentences = []\n",
        "next_chars = []\n",
        "for i in range(0, len(combined_text) - SEQUENCE_LENGTH, step):\n",
        "    sentences.append(combined_text[i: i + SEQUENCE_LENGTH])\n",
        "    next_chars.append(combined_text[i + SEQUENCE_LENGTH])\n",
        "print(f'num training examples: {len(sentences)}')\n",
        "\"\"\"\n"
      ],
      "execution_count": null,
      "outputs": [
        {
          "output_type": "stream",
          "text": [
            "num training examples: 551683\n"
          ],
          "name": "stdout"
        }
      ]
    },
    {
      "cell_type": "code",
      "metadata": {
        "id": "eRlV3B7IpQQS",
        "colab_type": "code",
        "colab": {}
      },
      "source": [
        "\n",
        "\"\"\"\n",
        "X = np.zeros((len(sentences), SEQUENCE_LENGTH, len(unique_alpha)), dtype = np.bool)\n",
        "y = np.zeros((len(sentences), len(unique_alpha)), dtype = np.bool)\n",
        "for i, sentence in enumerate(sentences):\n",
        "    for t, char in enumerate(sentence):\n",
        "        X[i, t, uchar_index[char]] = 1\n",
        "    y[i, uchar_index[next_chars[i]]] = 1\n",
        "\"\"\"\n"
      ],
      "execution_count": null,
      "outputs": []
    },
    {
      "cell_type": "code",
      "metadata": {
        "id": "1b16RT6SpQSz",
        "colab_type": "code",
        "colab": {}
      },
      "source": [
        ""
      ],
      "execution_count": 17,
      "outputs": []
    },
    {
      "cell_type": "code",
      "metadata": {
        "id": "XwyPx6xJofOO",
        "colab_type": "code",
        "colab": {
          "base_uri": "https://localhost:8080/",
          "height": 167
        },
        "outputId": "c96ff96c-f390-4932-d8a9-f1afa1eac0ff"
      },
      "source": [
        "lyrics_data['Lyrics'][0]"
      ],
      "execution_count": 19,
      "outputs": [
        {
          "output_type": "execute_result",
          "data": {
            "application/vnd.google.colaboratory.intrinsic+json": {
              "type": "string"
            },
            "text/plain": [
              "'e na tana na de) - 2\\n Tere liye o deewani gali gali khak chani\\n Ab yu sata na mujhe\\n (Jhasa de re na jhasa na de mujhe manchale\\n Jhasa de re na jhasa na de) - 2\\n Janu tujhe mai janu bat mai teri na manu\\n Chod de banana mujhe\\n Tana dere na tana na de sundari\\n Jhasa de re na jhasa na de\\n \\n Lakho me karodo me koi na tujhsi hasina milegi - 2\\n Rup ke chaman me na aisi kali so baras me khilegi\\n Chal jhuthe bato me na aau teri\\n Chodungi na jid meri tune nahi jana mujhe\\n Jhasa de re na jhasa na de manchale\\n Tana dere na tana na de\\n \\n Teri ho gayi hu magar ye samjh na gulami karungi - 2\\n Ankhe na dikha re deewane na aisi ada se darungi\\n Tu hai mere dil ki rani mai tera gulam jani\\n Dekh yu jala na mujhe\\n (Tana dere na tana na de sundari\\n Tana dere na tana na de) - 2\\n Tere liye o deewani gali gali khak chani\\n Ab yu sata na mujhe\\n (Jhasa de re na jhasa na de manchale\\n Jhasa de re na jhasa na de) - 2\\n Janu tujhe mai janu bat mai teri na manu\\n Chod de banana mujhe\\n Jhasa de re na jhasa na de manchale\\n Tana dere na tana na de\\n</font>'"
            ]
          },
          "metadata": {
            "tags": []
          },
          "execution_count": 19
        }
      ]
    },
    {
      "cell_type": "code",
      "metadata": {
        "id": "vFqNs4rBpQUj",
        "colab_type": "code",
        "colab": {
          "base_uri": "https://localhost:8080/",
          "height": 55
        },
        "outputId": "bfc40650-ab97-4364-db29-f133e0b6d5dc"
      },
      "source": [
        "\n",
        "\"\"\"\n",
        "model = Sequential()\n",
        "model.add(LSTM(128, input_shape=(SEQUENCE_LENGTH, len(unique_alpha))))\n",
        "model.add(Dense(len(unique_alpha)))\n",
        "model.add(Activation('softmax'))\n",
        "\"\"\"\n"
      ],
      "execution_count": 12,
      "outputs": [
        {
          "output_type": "execute_result",
          "data": {
            "application/vnd.google.colaboratory.intrinsic+json": {
              "type": "string"
            },
            "text/plain": [
              "\"\\nmodel = Sequential()\\nmodel.add(LSTM(128, input_shape=(SEQUENCE_LENGTH, len(unique_alpha))))\\nmodel.add(Dense(len(unique_alpha)))\\nmodel.add(Activation('softmax'))\\n\""
            ]
          },
          "metadata": {
            "tags": []
          },
          "execution_count": 12
        }
      ]
    },
    {
      "cell_type": "code",
      "metadata": {
        "id": "2Uf4nWdhpQY7",
        "colab_type": "code",
        "colab": {
          "base_uri": "https://localhost:8080/",
          "height": 568
        },
        "outputId": "4ee7bda3-8899-45a5-8655-0d4fee0c4e90"
      },
      "source": [
        "\n",
        "\"\"\"\n",
        "optimizer = RMSprop(lr=0.01)\n",
        "model.compile(loss='categorical_crossentropy', optimizer=optimizer, metrics = ['accuracy'])\n",
        "history = model.fit(X, y, validation_split = 0.05, batch_size = 128, epochs = 20, shuffle = True).history\n",
        "\"\"\"\n"
      ],
      "execution_count": null,
      "outputs": [
        {
          "output_type": "stream",
          "text": [
            "Epoch 1/20\n",
            "4095/4095 [==============================] - 590s 144ms/step - loss: 1.8296 - accuracy: 0.4422 - val_loss: 1.7868 - val_accuracy: 0.4497\n",
            "Epoch 2/20\n",
            "4095/4095 [==============================] - 603s 147ms/step - loss: 1.6343 - accuracy: 0.4983 - val_loss: 1.7551 - val_accuracy: 0.4661\n",
            "Epoch 3/20\n",
            "4095/4095 [==============================] - 574s 140ms/step - loss: 1.5828 - accuracy: 0.5141 - val_loss: 1.7434 - val_accuracy: 0.4678\n",
            "Epoch 4/20\n",
            "4095/4095 [==============================] - 581s 142ms/step - loss: 1.5600 - accuracy: 0.5204 - val_loss: 1.7505 - val_accuracy: 0.4713\n",
            "Epoch 5/20\n",
            "4095/4095 [==============================] - 573s 140ms/step - loss: 1.5390 - accuracy: 0.5270 - val_loss: 1.7564 - val_accuracy: 0.4641\n",
            "Epoch 6/20\n",
            "4095/4095 [==============================] - 580s 142ms/step - loss: 1.5256 - accuracy: 0.5305 - val_loss: 1.7522 - val_accuracy: 0.4734\n",
            "Epoch 7/20\n",
            "4095/4095 [==============================] - 577s 141ms/step - loss: 1.5147 - accuracy: 0.5339 - val_loss: 1.7379 - val_accuracy: 0.4788\n",
            "Epoch 8/20\n",
            "4095/4095 [==============================] - 571s 139ms/step - loss: 1.5051 - accuracy: 0.5363 - val_loss: 1.7362 - val_accuracy: 0.4748\n",
            "Epoch 9/20\n",
            "4095/4095 [==============================] - 569s 139ms/step - loss: 1.4991 - accuracy: 0.5387 - val_loss: 1.7551 - val_accuracy: 0.4749\n",
            "Epoch 10/20\n",
            "4095/4095 [==============================] - 553s 135ms/step - loss: 1.4958 - accuracy: 0.5392 - val_loss: 1.7372 - val_accuracy: 0.4778\n",
            "Epoch 11/20\n",
            "4095/4095 [==============================] - 540s 132ms/step - loss: 1.4950 - accuracy: 0.5402 - val_loss: 1.7636 - val_accuracy: 0.4731\n",
            "Epoch 12/20\n",
            "4095/4095 [==============================] - 558s 136ms/step - loss: 1.4920 - accuracy: 0.5410 - val_loss: 1.7859 - val_accuracy: 0.4686\n",
            "Epoch 13/20\n",
            "4095/4095 [==============================] - 573s 140ms/step - loss: 1.8233 - accuracy: 0.4706 - val_loss: 2.2247 - val_accuracy: 0.3830\n",
            "Epoch 14/20\n",
            "4095/4095 [==============================] - 561s 137ms/step - loss: 2.5715 - accuracy: 0.3339 - val_loss: 2.8431 - val_accuracy: 0.2897\n",
            "Epoch 15/20\n",
            " 607/4095 [===>..........................] - ETA: 7:48 - loss: 2.9055 - accuracy: 0.2874Buffered data was truncated after reaching the output size limit."
          ],
          "name": "stdout"
        }
      ]
    },
    {
      "cell_type": "code",
      "metadata": {
        "id": "0rl3qoW2pQgu",
        "colab_type": "code",
        "colab": {}
      },
      "source": [
        ""
      ],
      "execution_count": null,
      "outputs": []
    },
    {
      "cell_type": "code",
      "metadata": {
        "id": "_QoZN0rPpQmx",
        "colab_type": "code",
        "colab": {}
      },
      "source": [
        ""
      ],
      "execution_count": null,
      "outputs": []
    },
    {
      "cell_type": "code",
      "metadata": {
        "id": "1MWf13wKpQpy",
        "colab_type": "code",
        "colab": {}
      },
      "source": [
        ""
      ],
      "execution_count": null,
      "outputs": []
    },
    {
      "cell_type": "code",
      "metadata": {
        "id": "5KNI3k53pQs9",
        "colab_type": "code",
        "colab": {}
      },
      "source": [
        ""
      ],
      "execution_count": null,
      "outputs": []
    },
    {
      "cell_type": "code",
      "metadata": {
        "id": "zlw5AQe7pQv4",
        "colab_type": "code",
        "colab": {}
      },
      "source": [
        ""
      ],
      "execution_count": null,
      "outputs": []
    },
    {
      "cell_type": "code",
      "metadata": {
        "id": "TY6fUhrKV0aJ",
        "colab_type": "code",
        "colab": {}
      },
      "source": [
        ""
      ],
      "execution_count": null,
      "outputs": []
    },
    {
      "cell_type": "code",
      "metadata": {
        "id": "Ga35yQxAV0ik",
        "colab_type": "code",
        "colab": {}
      },
      "source": [
        ""
      ],
      "execution_count": null,
      "outputs": []
    },
    {
      "cell_type": "code",
      "metadata": {
        "id": "IJERnmwcV0qX",
        "colab_type": "code",
        "colab": {}
      },
      "source": [
        ""
      ],
      "execution_count": null,
      "outputs": []
    },
    {
      "cell_type": "code",
      "metadata": {
        "id": "6r_qcixXV0xS",
        "colab_type": "code",
        "colab": {}
      },
      "source": [
        ""
      ],
      "execution_count": null,
      "outputs": []
    },
    {
      "cell_type": "code",
      "metadata": {
        "id": "uQ454ngOV0vI",
        "colab_type": "code",
        "colab": {}
      },
      "source": [
        ""
      ],
      "execution_count": null,
      "outputs": []
    },
    {
      "cell_type": "code",
      "metadata": {
        "id": "sBYyIIAmV0t1",
        "colab_type": "code",
        "colab": {}
      },
      "source": [
        ""
      ],
      "execution_count": null,
      "outputs": []
    },
    {
      "cell_type": "code",
      "metadata": {
        "id": "W9JbHzuOV0gg",
        "colab_type": "code",
        "colab": {}
      },
      "source": [
        ""
      ],
      "execution_count": null,
      "outputs": []
    }
  ]
}